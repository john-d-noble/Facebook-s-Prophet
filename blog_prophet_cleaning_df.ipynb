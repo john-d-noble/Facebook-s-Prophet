{
  "nbformat": 4,
  "nbformat_minor": 0,
  "metadata": {
    "colab": {
      "name": "blog_prophet_cleaning_df",
      "provenance": [],
      "toc_visible": true,
      "authorship_tag": "ABX9TyOx6urHu9ErRGCGJIUUcrfl",
      "include_colab_link": true
    },
    "kernelspec": {
      "name": "python3",
      "display_name": "Python 3"
    },
    "language_info": {
      "name": "python"
    }
  },
  "cells": [
    {
      "cell_type": "markdown",
      "metadata": {
        "id": "view-in-github",
        "colab_type": "text"
      },
      "source": [
        "<a href=\"https://colab.research.google.com/github/Lewis34cs/fb_prophet_blog_notebook/blob/main/blog_prophet_cleaning_df.ipynb\" target=\"_parent\"><img src=\"https://colab.research.google.com/assets/colab-badge.svg\" alt=\"Open In Colab\"/></a>"
      ]
    },
    {
      "cell_type": "markdown",
      "metadata": {
        "id": "E3t8fmTGILM7"
      },
      "source": [
        "# Cleaning Dataframe for Blog"
      ]
    },
    {
      "cell_type": "code",
      "metadata": {
        "colab": {
          "base_uri": "https://localhost:8080/"
        },
        "id": "l0yflUgPuGaa",
        "outputId": "16f85fb8-ae9e-4169-a33f-7968d15476b4"
      },
      "source": [
        "# Mounting Google Drive\n",
        "from google.colab import drive\n",
        "drive.mount('/content/drive', force_remount=True)"
      ],
      "execution_count": 1,
      "outputs": [
        {
          "output_type": "stream",
          "text": [
            "Mounted at /content/drive\n"
          ],
          "name": "stdout"
        }
      ]
    },
    {
      "cell_type": "code",
      "metadata": {
        "id": "fIQHDIrq27qs"
      },
      "source": [
        "#Importing necessary libraries\n",
        "import pandas as pd\n",
        "import matplotlib.pyplot as plt\n",
        "from fbprophet import Prophet\n",
        "from fbprophet.diagnostics import cross_validation, performance_metrics\n",
        "from fbprophet.plot import plot_cross_validation_metric"
      ],
      "execution_count": 2,
      "outputs": []
    },
    {
      "cell_type": "markdown",
      "metadata": {
        "id": "ZDefhG7h0VUF"
      },
      "source": [
        "This dataset was retrieved from FRED and then uploaded into my Google Drive.\n",
        "\n",
        "- Link to the original dataset can be found [`here`](https://fred.stlouisfed.org/series/PCU481111481111)"
      ]
    },
    {
      "cell_type": "markdown",
      "metadata": {
        "id": "wb09duuUFDM6"
      },
      "source": [
        "The purpose of this notebook is to remove all rows within the dataframe that are in the year 2020 and beyond. The reason behind this is because 2020 was a major outlier - many flights were cancelled for a long duration of time due to the COVID-19 pandemic. Once we have removed these rows, we will save the new dataframe in a csv file and use the cleaned version for the blog. "
      ]
    },
    {
      "cell_type": "code",
      "metadata": {
        "id": "IFBwNi2et1_p"
      },
      "source": [
        "# Loading in dataset\n",
        "df = pd.read_csv('/content/drive/MyDrive/gdrive/datasets/air_passenger.csv')"
      ],
      "execution_count": 3,
      "outputs": []
    },
    {
      "cell_type": "markdown",
      "metadata": {
        "id": "qIIuzBh_TL6U"
      },
      "source": [
        "The 'DATE' column is in a monthly start format"
      ]
    },
    {
      "cell_type": "code",
      "metadata": {
        "colab": {
          "base_uri": "https://localhost:8080/",
          "height": 195
        },
        "id": "o5k7GAcQuZGh",
        "outputId": "860e6d08-8b1b-41db-d4b2-0dc1751aa178"
      },
      "source": [
        "df.head(5)"
      ],
      "execution_count": 4,
      "outputs": [
        {
          "output_type": "execute_result",
          "data": {
            "text/html": [
              "<div>\n",
              "<style scoped>\n",
              "    .dataframe tbody tr th:only-of-type {\n",
              "        vertical-align: middle;\n",
              "    }\n",
              "\n",
              "    .dataframe tbody tr th {\n",
              "        vertical-align: top;\n",
              "    }\n",
              "\n",
              "    .dataframe thead th {\n",
              "        text-align: right;\n",
              "    }\n",
              "</style>\n",
              "<table border=\"1\" class=\"dataframe\">\n",
              "  <thead>\n",
              "    <tr style=\"text-align: right;\">\n",
              "      <th></th>\n",
              "      <th>DATE</th>\n",
              "      <th>PCU481111481111</th>\n",
              "    </tr>\n",
              "  </thead>\n",
              "  <tbody>\n",
              "    <tr>\n",
              "      <th>0</th>\n",
              "      <td>1989-12-01</td>\n",
              "      <td>100.0</td>\n",
              "    </tr>\n",
              "    <tr>\n",
              "      <th>1</th>\n",
              "      <td>1990-01-01</td>\n",
              "      <td>101.0</td>\n",
              "    </tr>\n",
              "    <tr>\n",
              "      <th>2</th>\n",
              "      <td>1990-02-01</td>\n",
              "      <td>104.5</td>\n",
              "    </tr>\n",
              "    <tr>\n",
              "      <th>3</th>\n",
              "      <td>1990-03-01</td>\n",
              "      <td>106.9</td>\n",
              "    </tr>\n",
              "    <tr>\n",
              "      <th>4</th>\n",
              "      <td>1990-04-01</td>\n",
              "      <td>106.5</td>\n",
              "    </tr>\n",
              "  </tbody>\n",
              "</table>\n",
              "</div>"
            ],
            "text/plain": [
              "         DATE  PCU481111481111\n",
              "0  1989-12-01            100.0\n",
              "1  1990-01-01            101.0\n",
              "2  1990-02-01            104.5\n",
              "3  1990-03-01            106.9\n",
              "4  1990-04-01            106.5"
            ]
          },
          "metadata": {
            "tags": []
          },
          "execution_count": 4
        }
      ]
    },
    {
      "cell_type": "code",
      "metadata": {
        "colab": {
          "base_uri": "https://localhost:8080/",
          "height": 195
        },
        "id": "abWh1N662lEL",
        "outputId": "39746701-dc1a-4706-ec82-8135ea6f6e80"
      },
      "source": [
        "df.tail()"
      ],
      "execution_count": 5,
      "outputs": [
        {
          "output_type": "execute_result",
          "data": {
            "text/html": [
              "<div>\n",
              "<style scoped>\n",
              "    .dataframe tbody tr th:only-of-type {\n",
              "        vertical-align: middle;\n",
              "    }\n",
              "\n",
              "    .dataframe tbody tr th {\n",
              "        vertical-align: top;\n",
              "    }\n",
              "\n",
              "    .dataframe thead th {\n",
              "        text-align: right;\n",
              "    }\n",
              "</style>\n",
              "<table border=\"1\" class=\"dataframe\">\n",
              "  <thead>\n",
              "    <tr style=\"text-align: right;\">\n",
              "      <th></th>\n",
              "      <th>DATE</th>\n",
              "      <th>PCU481111481111</th>\n",
              "    </tr>\n",
              "  </thead>\n",
              "  <tbody>\n",
              "    <tr>\n",
              "      <th>370</th>\n",
              "      <td>2020-10-01</td>\n",
              "      <td>250.5</td>\n",
              "    </tr>\n",
              "    <tr>\n",
              "      <th>371</th>\n",
              "      <td>2020-11-01</td>\n",
              "      <td>230.5</td>\n",
              "    </tr>\n",
              "    <tr>\n",
              "      <th>372</th>\n",
              "      <td>2020-12-01</td>\n",
              "      <td>224.3</td>\n",
              "    </tr>\n",
              "    <tr>\n",
              "      <th>373</th>\n",
              "      <td>2021-01-01</td>\n",
              "      <td>223.9</td>\n",
              "    </tr>\n",
              "    <tr>\n",
              "      <th>374</th>\n",
              "      <td>2021-02-01</td>\n",
              "      <td>227.7</td>\n",
              "    </tr>\n",
              "  </tbody>\n",
              "</table>\n",
              "</div>"
            ],
            "text/plain": [
              "           DATE  PCU481111481111\n",
              "370  2020-10-01            250.5\n",
              "371  2020-11-01            230.5\n",
              "372  2020-12-01            224.3\n",
              "373  2021-01-01            223.9\n",
              "374  2021-02-01            227.7"
            ]
          },
          "metadata": {
            "tags": []
          },
          "execution_count": 5
        }
      ]
    },
    {
      "cell_type": "code",
      "metadata": {
        "id": "E7eBMgIyyTLO"
      },
      "source": [
        "# Setting 'ds' column as a datetime object\n",
        "df['DATE'] = pd.to_datetime(df['DATE'], format='%Y-%m-%d')"
      ],
      "execution_count": 6,
      "outputs": []
    },
    {
      "cell_type": "code",
      "metadata": {
        "colab": {
          "base_uri": "https://localhost:8080/"
        },
        "id": "fepZfQg3yca7",
        "outputId": "86f87643-ac3f-4778-c4cd-f5bbaef57a82"
      },
      "source": [
        "df.info()"
      ],
      "execution_count": 7,
      "outputs": [
        {
          "output_type": "stream",
          "text": [
            "<class 'pandas.core.frame.DataFrame'>\n",
            "RangeIndex: 375 entries, 0 to 374\n",
            "Data columns (total 2 columns):\n",
            " #   Column           Non-Null Count  Dtype         \n",
            "---  ------           --------------  -----         \n",
            " 0   DATE             375 non-null    datetime64[ns]\n",
            " 1   PCU481111481111  375 non-null    float64       \n",
            "dtypes: datetime64[ns](1), float64(1)\n",
            "memory usage: 6.0 KB\n"
          ],
          "name": "stdout"
        }
      ]
    },
    {
      "cell_type": "code",
      "metadata": {
        "colab": {
          "base_uri": "https://localhost:8080/",
          "height": 195
        },
        "id": "uhnwaCCF2UfH",
        "outputId": "67f9f3e5-bfc6-4ae3-e8d4-e8791adbc61c"
      },
      "source": [
        "df.head()"
      ],
      "execution_count": 8,
      "outputs": [
        {
          "output_type": "execute_result",
          "data": {
            "text/html": [
              "<div>\n",
              "<style scoped>\n",
              "    .dataframe tbody tr th:only-of-type {\n",
              "        vertical-align: middle;\n",
              "    }\n",
              "\n",
              "    .dataframe tbody tr th {\n",
              "        vertical-align: top;\n",
              "    }\n",
              "\n",
              "    .dataframe thead th {\n",
              "        text-align: right;\n",
              "    }\n",
              "</style>\n",
              "<table border=\"1\" class=\"dataframe\">\n",
              "  <thead>\n",
              "    <tr style=\"text-align: right;\">\n",
              "      <th></th>\n",
              "      <th>DATE</th>\n",
              "      <th>PCU481111481111</th>\n",
              "    </tr>\n",
              "  </thead>\n",
              "  <tbody>\n",
              "    <tr>\n",
              "      <th>0</th>\n",
              "      <td>1989-12-01</td>\n",
              "      <td>100.0</td>\n",
              "    </tr>\n",
              "    <tr>\n",
              "      <th>1</th>\n",
              "      <td>1990-01-01</td>\n",
              "      <td>101.0</td>\n",
              "    </tr>\n",
              "    <tr>\n",
              "      <th>2</th>\n",
              "      <td>1990-02-01</td>\n",
              "      <td>104.5</td>\n",
              "    </tr>\n",
              "    <tr>\n",
              "      <th>3</th>\n",
              "      <td>1990-03-01</td>\n",
              "      <td>106.9</td>\n",
              "    </tr>\n",
              "    <tr>\n",
              "      <th>4</th>\n",
              "      <td>1990-04-01</td>\n",
              "      <td>106.5</td>\n",
              "    </tr>\n",
              "  </tbody>\n",
              "</table>\n",
              "</div>"
            ],
            "text/plain": [
              "        DATE  PCU481111481111\n",
              "0 1989-12-01            100.0\n",
              "1 1990-01-01            101.0\n",
              "2 1990-02-01            104.5\n",
              "3 1990-03-01            106.9\n",
              "4 1990-04-01            106.5"
            ]
          },
          "metadata": {
            "tags": []
          },
          "execution_count": 8
        }
      ]
    },
    {
      "cell_type": "code",
      "metadata": {
        "colab": {
          "base_uri": "https://localhost:8080/"
        },
        "id": "tg45r32YGAmw",
        "outputId": "ce7b479f-76e1-4841-eb29-1a986ef7b9d5"
      },
      "source": [
        "df.columns"
      ],
      "execution_count": 9,
      "outputs": [
        {
          "output_type": "execute_result",
          "data": {
            "text/plain": [
              "Index(['DATE', 'PCU481111481111'], dtype='object')"
            ]
          },
          "metadata": {
            "tags": []
          },
          "execution_count": 9
        }
      ]
    },
    {
      "cell_type": "code",
      "metadata": {
        "colab": {
          "base_uri": "https://localhost:8080/",
          "height": 497
        },
        "id": "5FzoA92eWjOc",
        "outputId": "b9c7cafb-ceab-41bf-cd0c-35116475b34d"
      },
      "source": [
        "ax = df.plot(x='DATE', y='PCU481111481111', figsize=(16,8))\n",
        "ax.set_xlabel('Time')\n",
        "ax.set_ylabel('Price Index')\n",
        "plt.axvline(x='2020-01-01', c='red', label='Beginning of 2020')\n",
        "plt.legend();"
      ],
      "execution_count": 10,
      "outputs": [
        {
          "output_type": "display_data",
          "data": {
            "image/png": "[encoded data removed]",
            "text/plain": [
              "<Figure size 1152x576 with 1 Axes>"
            ]
          },
          "metadata": {
            "tags": [],
            "needs_background": "light"
          }
        }
      ]
    },
    {
      "cell_type": "markdown",
      "metadata": {
        "id": "I3D0e7Cf627M"
      },
      "source": [
        "Notice the extreme drop starting from 2020 for the price index for scheduled airline passengers. Because the purpose of this notebook is to show the basics of Prophet's abilities forecast and predict on a time series dataset, we will not be using any values from 2020-01-01 onwards. Instead, we will focus solely on the data within 1989-12-01 to 2019-12-01."
      ]
    },
    {
      "cell_type": "code",
      "metadata": {
        "colab": {
          "base_uri": "https://localhost:8080/"
        },
        "id": "yoF4V84ZRmX5",
        "outputId": "72fa2bc7-a7ca-4a77-b640-57c08057c336"
      },
      "source": [
        "# Viewing the length of the dataframe\n",
        "len(df)"
      ],
      "execution_count": 11,
      "outputs": [
        {
          "output_type": "execute_result",
          "data": {
            "text/plain": [
              "375"
            ]
          },
          "metadata": {
            "tags": []
          },
          "execution_count": 11
        }
      ]
    },
    {
      "cell_type": "code",
      "metadata": {
        "colab": {
          "base_uri": "https://localhost:8080/"
        },
        "id": "7PEQaVf-YYrm",
        "outputId": "be612d57-7a66-465f-95bc-9f775ac69faa"
      },
      "source": [
        "# Figuring out which index we need to slice out to remove 2020 from the dataframe\n",
        "sum(df['DATE'] > '2019-12-01')"
      ],
      "execution_count": 12,
      "outputs": [
        {
          "output_type": "execute_result",
          "data": {
            "text/plain": [
              "14"
            ]
          },
          "metadata": {
            "tags": []
          },
          "execution_count": 12
        }
      ]
    },
    {
      "cell_type": "code",
      "metadata": {
        "colab": {
          "base_uri": "https://localhost:8080/",
          "height": 462
        },
        "id": "9w4Yhh8kY2J2",
        "outputId": "3466e015-787a-41c7-8172-c3aa3f293a52"
      },
      "source": [
        "# Confirming that the final 14 rows all consist of dates from 2020 onwards\n",
        "df.iloc[-14:]"
      ],
      "execution_count": 13,
      "outputs": [
        {
          "output_type": "execute_result",
          "data": {
            "text/html": [
              "<div>\n",
              "<style scoped>\n",
              "    .dataframe tbody tr th:only-of-type {\n",
              "        vertical-align: middle;\n",
              "    }\n",
              "\n",
              "    .dataframe tbody tr th {\n",
              "        vertical-align: top;\n",
              "    }\n",
              "\n",
              "    .dataframe thead th {\n",
              "        text-align: right;\n",
              "    }\n",
              "</style>\n",
              "<table border=\"1\" class=\"dataframe\">\n",
              "  <thead>\n",
              "    <tr style=\"text-align: right;\">\n",
              "      <th></th>\n",
              "      <th>DATE</th>\n",
              "      <th>PCU481111481111</th>\n",
              "    </tr>\n",
              "  </thead>\n",
              "  <tbody>\n",
              "    <tr>\n",
              "      <th>361</th>\n",
              "      <td>2020-01-01</td>\n",
              "      <td>294.6</td>\n",
              "    </tr>\n",
              "    <tr>\n",
              "      <th>362</th>\n",
              "      <td>2020-02-01</td>\n",
              "      <td>288.8</td>\n",
              "    </tr>\n",
              "    <tr>\n",
              "      <th>363</th>\n",
              "      <td>2020-03-01</td>\n",
              "      <td>265.7</td>\n",
              "    </tr>\n",
              "    <tr>\n",
              "      <th>364</th>\n",
              "      <td>2020-04-01</td>\n",
              "      <td>237.2</td>\n",
              "    </tr>\n",
              "    <tr>\n",
              "      <th>365</th>\n",
              "      <td>2020-05-01</td>\n",
              "      <td>258.4</td>\n",
              "    </tr>\n",
              "    <tr>\n",
              "      <th>366</th>\n",
              "      <td>2020-06-01</td>\n",
              "      <td>275.4</td>\n",
              "    </tr>\n",
              "    <tr>\n",
              "      <th>367</th>\n",
              "      <td>2020-07-01</td>\n",
              "      <td>254.2</td>\n",
              "    </tr>\n",
              "    <tr>\n",
              "      <th>368</th>\n",
              "      <td>2020-08-01</td>\n",
              "      <td>235.8</td>\n",
              "    </tr>\n",
              "    <tr>\n",
              "      <th>369</th>\n",
              "      <td>2020-09-01</td>\n",
              "      <td>236.4</td>\n",
              "    </tr>\n",
              "    <tr>\n",
              "      <th>370</th>\n",
              "      <td>2020-10-01</td>\n",
              "      <td>250.5</td>\n",
              "    </tr>\n",
              "    <tr>\n",
              "      <th>371</th>\n",
              "      <td>2020-11-01</td>\n",
              "      <td>230.5</td>\n",
              "    </tr>\n",
              "    <tr>\n",
              "      <th>372</th>\n",
              "      <td>2020-12-01</td>\n",
              "      <td>224.3</td>\n",
              "    </tr>\n",
              "    <tr>\n",
              "      <th>373</th>\n",
              "      <td>2021-01-01</td>\n",
              "      <td>223.9</td>\n",
              "    </tr>\n",
              "    <tr>\n",
              "      <th>374</th>\n",
              "      <td>2021-02-01</td>\n",
              "      <td>227.7</td>\n",
              "    </tr>\n",
              "  </tbody>\n",
              "</table>\n",
              "</div>"
            ],
            "text/plain": [
              "          DATE  PCU481111481111\n",
              "361 2020-01-01            294.6\n",
              "362 2020-02-01            288.8\n",
              "363 2020-03-01            265.7\n",
              "364 2020-04-01            237.2\n",
              "365 2020-05-01            258.4\n",
              "366 2020-06-01            275.4\n",
              "367 2020-07-01            254.2\n",
              "368 2020-08-01            235.8\n",
              "369 2020-09-01            236.4\n",
              "370 2020-10-01            250.5\n",
              "371 2020-11-01            230.5\n",
              "372 2020-12-01            224.3\n",
              "373 2021-01-01            223.9\n",
              "374 2021-02-01            227.7"
            ]
          },
          "metadata": {
            "tags": []
          },
          "execution_count": 13
        }
      ]
    },
    {
      "cell_type": "code",
      "metadata": {
        "id": "Ns7EYqXNXbDV",
        "colab": {
          "base_uri": "https://localhost:8080/",
          "height": 402
        },
        "outputId": "b9cb5c5e-f9c0-4084-ae8e-32897bfc5149"
      },
      "source": [
        "# separating 2020 from the dataframe for the sake of simplicity for this blog\n",
        "air_df = df.iloc[:-14]\n",
        "air_df"
      ],
      "execution_count": 14,
      "outputs": [
        {
          "output_type": "execute_result",
          "data": {
            "text/html": [
              "<div>\n",
              "<style scoped>\n",
              "    .dataframe tbody tr th:only-of-type {\n",
              "        vertical-align: middle;\n",
              "    }\n",
              "\n",
              "    .dataframe tbody tr th {\n",
              "        vertical-align: top;\n",
              "    }\n",
              "\n",
              "    .dataframe thead th {\n",
              "        text-align: right;\n",
              "    }\n",
              "</style>\n",
              "<table border=\"1\" class=\"dataframe\">\n",
              "  <thead>\n",
              "    <tr style=\"text-align: right;\">\n",
              "      <th></th>\n",
              "      <th>DATE</th>\n",
              "      <th>PCU481111481111</th>\n",
              "    </tr>\n",
              "  </thead>\n",
              "  <tbody>\n",
              "    <tr>\n",
              "      <th>0</th>\n",
              "      <td>1989-12-01</td>\n",
              "      <td>100.0</td>\n",
              "    </tr>\n",
              "    <tr>\n",
              "      <th>1</th>\n",
              "      <td>1990-01-01</td>\n",
              "      <td>101.0</td>\n",
              "    </tr>\n",
              "    <tr>\n",
              "      <th>2</th>\n",
              "      <td>1990-02-01</td>\n",
              "      <td>104.5</td>\n",
              "    </tr>\n",
              "    <tr>\n",
              "      <th>3</th>\n",
              "      <td>1990-03-01</td>\n",
              "      <td>106.9</td>\n",
              "    </tr>\n",
              "    <tr>\n",
              "      <th>4</th>\n",
              "      <td>1990-04-01</td>\n",
              "      <td>106.5</td>\n",
              "    </tr>\n",
              "    <tr>\n",
              "      <th>...</th>\n",
              "      <td>...</td>\n",
              "      <td>...</td>\n",
              "    </tr>\n",
              "    <tr>\n",
              "      <th>356</th>\n",
              "      <td>2019-08-01</td>\n",
              "      <td>290.8</td>\n",
              "    </tr>\n",
              "    <tr>\n",
              "      <th>357</th>\n",
              "      <td>2019-09-01</td>\n",
              "      <td>279.7</td>\n",
              "    </tr>\n",
              "    <tr>\n",
              "      <th>358</th>\n",
              "      <td>2019-10-01</td>\n",
              "      <td>293.3</td>\n",
              "    </tr>\n",
              "    <tr>\n",
              "      <th>359</th>\n",
              "      <td>2019-11-01</td>\n",
              "      <td>287.7</td>\n",
              "    </tr>\n",
              "    <tr>\n",
              "      <th>360</th>\n",
              "      <td>2019-12-01</td>\n",
              "      <td>307.9</td>\n",
              "    </tr>\n",
              "  </tbody>\n",
              "</table>\n",
              "<p>361 rows × 2 columns</p>\n",
              "</div>"
            ],
            "text/plain": [
              "          DATE  PCU481111481111\n",
              "0   1989-12-01            100.0\n",
              "1   1990-01-01            101.0\n",
              "2   1990-02-01            104.5\n",
              "3   1990-03-01            106.9\n",
              "4   1990-04-01            106.5\n",
              "..         ...              ...\n",
              "356 2019-08-01            290.8\n",
              "357 2019-09-01            279.7\n",
              "358 2019-10-01            293.3\n",
              "359 2019-11-01            287.7\n",
              "360 2019-12-01            307.9\n",
              "\n",
              "[361 rows x 2 columns]"
            ]
          },
          "metadata": {
            "tags": []
          },
          "execution_count": 14
        }
      ]
    },
    {
      "cell_type": "code",
      "metadata": {
        "id": "fzNx0O64HfMn"
      },
      "source": [
        "# Saving cleaned dataframe to google drive\n",
        "air_df.to_csv('/content/drive/MyDrive/gdrive/datasets/air_passenger_clean.csv',\n",
        "              index=False)"
      ],
      "execution_count": 15,
      "outputs": []
    }
  ]
}